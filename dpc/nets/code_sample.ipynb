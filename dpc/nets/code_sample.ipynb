{
  "nbformat": 4,
  "nbformat_minor": 0,
  "metadata": {
    "colab": {
      "name": "code_sample.ipynb",
      "provenance": [],
      "collapsed_sections": []
    },
    "kernelspec": {
      "name": "python3",
      "display_name": "Python 3"
    }
  },
  "cells": [
    {
      "cell_type": "code",
      "metadata": {
        "id": "qr0tXj7MENMU",
        "colab_type": "code",
        "colab": {}
      },
      "source": [
        "import torch\n",
        "from nets.img_encoder_torch import imgEncoder\n",
        "from nets.pc_decoder_torch import pcDecoder\n",
        "from nets.pose_net_torch import poseDecoder"
      ],
      "execution_count": 0,
      "outputs": []
    },
    {
      "cell_type": "code",
      "metadata": {
        "id": "Z6DclI50GoRS",
        "colab_type": "code",
        "colab": {}
      },
      "source": [
        "def load_dataset():\n",
        "    data_path = '/content/drive/My Drive/291'\n",
        "    train_dataset = torchvision.datasets.ImageFolder(\n",
        "        root=data_path,\n",
        "        transform=torchvision.transforms.ToTensor()\n",
        "    )\n",
        "    train_loader = torch.utils.data.DataLoader(\n",
        "        train_dataset,\n",
        "        batch_size=2,\n",
        "        num_workers=1,\n",
        "        shuffle=True\n",
        "    )\n",
        "    return train_loader"
      ],
      "execution_count": 0,
      "outputs": []
    },
    {
      "cell_type": "code",
      "metadata": {
        "id": "Skqbk2r6GzFQ",
        "colab_type": "code",
        "colab": {
          "base_uri": "https://localhost:8080/",
          "height": 35
        },
        "outputId": "b92d8ee1-ce6f-409e-930b-6027e33f3ba3"
      },
      "source": [
        "enc = imgEncoder(cfg, channel_number=3, image_size=128)\n",
        "dec = pcDecoder(cfg, afterConvSize=4096)\n",
        "pos = poseDecoder(cfg)\n",
        "\n",
        "for batch_idx, (data, target) in enumerate(load_dataset()):\n",
        "    print (data.size())\n",
        "    out0 = enc(data, False)\n",
        "    out1 = dec(outputs[\"ids\"], outputs, False)\n",
        "    out2 = pos(outputs['poses'])\n",
        "    break"
      ],
      "execution_count": 16,
      "outputs": [
        {
          "output_type": "stream",
          "text": [
            "torch.Size([2, 3, 128, 128])\n"
          ],
          "name": "stdout"
        }
      ]
    },
    {
      "cell_type": "code",
      "metadata": {
        "id": "eOIW6U_tHT85",
        "colab_type": "code",
        "colab": {
          "base_uri": "https://localhost:8080/",
          "height": 69
        },
        "outputId": "de49cfe3-25c5-4335-8d20-9177bbf1dd6b"
      },
      "source": [
        "print ([(key, out0[key].size()) for key in out0.keys()])\n",
        "print ([(key, out1[key].size()) for key in out1.keys()])\n",
        "print ([(key, out2[key].size()) for key in out2.keys()])"
      ],
      "execution_count": 17,
      "outputs": [
        {
          "output_type": "stream",
          "text": [
            "[('conv_features', torch.Size([2, 4096])), ('z_latent', torch.Size([2, 1024])), ('poses', torch.Size([2, 500])), ('ids', torch.Size([2, 500]))]\n",
            "[('xyz', torch.Size([2, 8000, 3])), ('rgb', torch.Size([2, 8000, 3]))]\n",
            "[('poses', torch.Size([2, 4, 4])), ('pose_student', torch.Size([2, 4])), ('predicted_translation', torch.Size([2, 3]))]\n"
          ],
          "name": "stdout"
        }
      ]
    },
    {
      "cell_type": "code",
      "metadata": {
        "id": "A9WBfKHIFyeP",
        "colab_type": "code",
        "colab": {}
      },
      "source": [
        "\n",
        "class CFG:\n",
        "    def __init__(self):\n",
        "        self.z_dim = 500\n",
        "        self.f_dim = 16\n",
        "        self.fc_dim = 1024\n",
        "        self.pc_num_points = 8000\n",
        "        self.pc_decoder_init_stddev = 0.025\n",
        "        self.predict_pose = True\n",
        "        self.pc_rgb = True\n",
        "        self.pc_rgb_deep_decoder = True\n",
        "        self.pc_unit_cube = False\n",
        "        self.pose_candidates_num_layers = 3\n",
        "        self.pose_predict_num_candidates = 4\n",
        "        self.pose_predictor_student = True\n",
        "        self.predict_translation = True\n",
        "        self.predict_translation_scaling_factor =  0.15\n",
        "        self.predict_translation_tanh =  True\n",
        "        self.predict_translation_init_stddev = 0.05\n",
        "cfg = CFG()"
      ],
      "execution_count": 0,
      "outputs": []
    }
  ]
}